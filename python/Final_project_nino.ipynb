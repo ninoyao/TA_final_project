{
 "cells": [
  {
   "cell_type": "markdown",
   "metadata": {},
   "source": [
    "## Creative recipe maker\n",
    "### Find the most similar ingredient by using word2vec model"
   ]
  },
  {
   "cell_type": "markdown",
   "metadata": {},
   "source": [
    "# Section 1"
   ]
  },
  {
   "cell_type": "code",
   "execution_count": 3,
   "metadata": {},
   "outputs": [],
   "source": [
    "import numpy as sns\n",
    "import pandas as pd\n",
    "# Visualization\n",
    "import seaborn as sns\n",
    "import matplotlib.pyplot as plt\n",
    "import os\n",
    "import gc"
   ]
  },
  {
   "cell_type": "code",
   "execution_count": null,
   "metadata": {},
   "outputs": [],
   "source": [
    "# read json data\n",
    "df = pd.read_json('/Users/ninoy/Desktop/VandyDS/TA-principles/TA_final_project/doc/train.json').set_index('id')"
   ]
  },
  {
   "cell_type": "code",
   "execution_count": null,
   "metadata": {},
   "outputs": [],
   "source": [
    "# EDA\n",
    "y = df.cuisine.copy()\n",
    "df_index = df.index\n",
    "print(\"All Data Shape: \", df.shape)\n",
    "sns.countplot(y=y, order=y.value_counts().reset_index()[\"index\"])\n",
    "plt.title(\"Cuisine Distribution\")\n",
    "plt.show()"
   ]
  },
  {
   "cell_type": "markdown",
   "metadata": {},
   "source": [
    "### Task 1, Make the things above into a class recipes that has:\n",
    "### 1. Three attributes, train_path, test_path, train_df, test_df\n",
    "### 2. A constructor that accepts 1 argument filepath\n",
    "### 3. A method plot() that will create the same plot above."
   ]
  },
  {
   "cell_type": "code",
   "execution_count": null,
   "metadata": {},
   "outputs": [],
   "source": [
    "## Create a class for the data\n",
    "filepath = \"/Users/ninoy/Desktop/VandyDS/TA-principles/TA_final_project/doc/\"\n",
    "filepath + \"train.json\""
   ]
  },
  {
   "cell_type": "code",
   "execution_count": null,
   "metadata": {},
   "outputs": [],
   "source": [
    "class recipes:\n",
    "    def __init__(self,filepath = \"/Users/ninoy/Desktop/VandyDS/TA-principles/TA_final_project/doc/\"):\n",
    "        self.train_path = filepath + 'train.json'\n",
    "        self.test_path = filepath + 'test.json'\n",
    "        self.df = pd.read_json(self.train_path)\n",
    "    def plot(self):\n",
    "        y = self.df.cuisine.copy()\n",
    "        sns.countplot(y=y, order=y.value_counts().reset_index()[\"index\"])\n",
    "        plt.title(\"Cuisine Distribution\")\n",
    "        plt.show()\n",
    "        return \n"
   ]
  },
  {
   "cell_type": "code",
   "execution_count": null,
   "metadata": {},
   "outputs": [],
   "source": [
    "tmp = recipes()"
   ]
  },
  {
   "cell_type": "code",
   "execution_count": null,
   "metadata": {},
   "outputs": [],
   "source": [
    "tmp.plot()"
   ]
  },
  {
   "cell_type": "markdown",
   "metadata": {},
   "source": [
    "## Section 2\n",
    "By using word2vec model, we will be able to find the similarity between words in our recipe dataset. In other words, it is possible that we can find the most \"similar\" words to, lets say, \"beef\", in the recipe dataset. It could be a creative tool for chief to developing new recipe!\n",
    "\n",
    "You dont need to know the theory behind the word2vec model at this point. Try to reproduce the code and create a class at the end!"
   ]
  },
  {
   "cell_type": "code",
   "execution_count": 16,
   "metadata": {},
   "outputs": [],
   "source": [
    "# you may need to upgrade your smart_open to the latest version\n",
    "from gensim.models import word2vec\n",
    "from pprint import pprint"
   ]
  },
  {
   "cell_type": "code",
   "execution_count": 17,
   "metadata": {},
   "outputs": [],
   "source": [
    "# Create a class for read the data\n",
    "class MySentences():\n",
    "    def __init__(self, fname):\n",
    "        self.fname = fname\n",
    "    def __iter__(self):\n",
    "        for line in open(self.fname,encoding='utf-8',mode= 'r'):\n",
    "            yield line.split()"
   ]
  },
  {
   "cell_type": "code",
   "execution_count": 18,
   "metadata": {},
   "outputs": [],
   "source": [
    "# replace by your own path\n",
    "DataDir = \"/Users/ninoy/Desktop/VandyDS/TA-principles/TA_final_project/doc/\"\n",
    "ModelDir = \"/Users/ninoy/Desktop/VandyDS/TA-principles/TA_final_project/\"\n",
    "MIN_COUNT = 4\n",
    "CPU_NUM = 2 \n",
    "VEC_SIZE = 20\n",
    "CONTEXT_WINDOW = 5 "
   ]
  },
  {
   "cell_type": "code",
   "execution_count": 19,
   "metadata": {},
   "outputs": [],
   "source": [
    "def w2vTrain(f_input, model_output):         \n",
    "    sentences = MySentences(DataDir+f_input)\n",
    "    w2v_model = word2vec.Word2Vec(sentences, \n",
    "                                  min_count = MIN_COUNT, \n",
    "                                  workers = CPU_NUM, \n",
    "                                  size = VEC_SIZE,\n",
    "                                  window = CONTEXT_WINDOW\n",
    "                                 )\n",
    "    w2v_model.save(ModelDir+model_output)\n",
    "    print(\"model is saved at\" + ModelDir+model_output)"
   ]
  },
  {
   "cell_type": "code",
   "execution_count": 20,
   "metadata": {},
   "outputs": [],
   "source": [
    "f_input = \"train.json\"\n",
    "model_output = \"test_w2v_model\""
   ]
  },
  {
   "cell_type": "code",
   "execution_count": 21,
   "metadata": {},
   "outputs": [
    {
     "name": "stdout",
     "output_type": "stream",
     "text": [
      "model is saved at/Users/ninoy/Desktop/VandyDS/TA-principles/TA_final_project/test_w2v_model\n"
     ]
    }
   ],
   "source": [
    "w2vTrain(f_input,model_output)"
   ]
  },
  {
   "cell_type": "code",
   "execution_count": 22,
   "metadata": {},
   "outputs": [],
   "source": [
    "w2v_model = word2vec.Word2Vec.load(ModelDir+model_output)"
   ]
  },
  {
   "cell_type": "code",
   "execution_count": 23,
   "metadata": {},
   "outputs": [],
   "source": [
    "def similar(name):print( w2v_model.wv.most_similar(name))"
   ]
  },
  {
   "cell_type": "code",
   "execution_count": 24,
   "metadata": {
    "scrolled": true
   },
   "outputs": [
    {
     "name": "stdout",
     "output_type": "stream",
     "text": [
      "[('beef', 0.9143478870391846), ('\"chicken', 0.844719409942627), ('vegetable', 0.8328189253807068), ('reduced-sodium', 0.8327734470367432), ('canned', 0.8258584141731262), ('reduc', 0.823573648929596), ('\"no', 0.8164067268371582), ('\"turkey', 0.8117441534996033), ('added', 0.8104814291000366), ('bought', 0.803112268447876)]\n"
     ]
    }
   ],
   "source": [
    "similar('chicken')"
   ]
  },
  {
   "cell_type": "markdown",
   "metadata": {},
   "source": [
    "### Task 2\n",
    "### After saving the model, Adding the method \"similar\" to our recipes class that return the same thing as the similar function above.\n",
    "Hint: you can train & save the model outside the class and only load the model when you use recipes.similar()"
   ]
  },
  {
   "cell_type": "code",
   "execution_count": 26,
   "metadata": {},
   "outputs": [],
   "source": [
    "class recipes:\n",
    "    def __init__(self,filepath = \"/Users/ninoy/Desktop/VandyDS/TA-principles/TA_final_project/doc/\"):\n",
    "        self.train_path = filepath + 'train.json'\n",
    "        self.test_path = filepath + 'test.json'\n",
    "        self.df = pd.read_json(self.train_path)\n",
    "        self.ModelDir = \"/Users/ninoy/Desktop/VandyDS/TA-principles/TA_final_project/\"\n",
    "        self.model_output = \"test_w2v_model\"\n",
    "    def plot(self):\n",
    "        y = self.df.cuisine.copy()\n",
    "        sns.countplot(y=y, order=y.value_counts().reset_index()[\"index\"])\n",
    "        plt.title(\"Cuisine Distribution\")\n",
    "        plt.show()\n",
    "        return \n",
    "    def similar(self,name):\n",
    "        w2v_model = word2vec.Word2Vec.load(self.ModelDir+self.model_output)\n",
    "        print( w2v_model.wv.most_similar(name))"
   ]
  },
  {
   "cell_type": "code",
   "execution_count": 27,
   "metadata": {},
   "outputs": [],
   "source": [
    "temp = recipes()"
   ]
  },
  {
   "cell_type": "code",
   "execution_count": 29,
   "metadata": {},
   "outputs": [
    {
     "name": "stdout",
     "output_type": "stream",
     "text": [
      "[('chicken', 0.9143478870391846), ('bought', 0.8687036037445068), ('\"turkey', 0.8610939979553223), ('eye', 0.8554235696792603), ('reduced-sodium', 0.8551112413406372), ('\"chicken', 0.8533978462219238), ('\"duck', 0.8460595607757568), ('canned', 0.8445256948471069), ('\"beef', 0.842650294303894), ('\"store', 0.8414840698242188)]\n"
     ]
    }
   ],
   "source": [
    "temp.similar('beef')"
   ]
  },
  {
   "cell_type": "code",
   "execution_count": null,
   "metadata": {},
   "outputs": [],
   "source": []
  }
 ],
 "metadata": {
  "kernelspec": {
   "display_name": "Python 3",
   "language": "python",
   "name": "python3"
  },
  "language_info": {
   "codemirror_mode": {
    "name": "ipython",
    "version": 3
   },
   "file_extension": ".py",
   "mimetype": "text/x-python",
   "name": "python",
   "nbconvert_exporter": "python",
   "pygments_lexer": "ipython3",
   "version": "3.7.3"
  }
 },
 "nbformat": 4,
 "nbformat_minor": 2
}
